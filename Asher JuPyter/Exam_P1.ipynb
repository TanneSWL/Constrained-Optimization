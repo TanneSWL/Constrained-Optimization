{
 "cells": [
  {
   "cell_type": "markdown",
   "metadata": {},
   "source": [
    "# Equality Constrained Convex Quadratic Program Solvers"
   ]
  },
  {
   "cell_type": "markdown",
   "metadata": {},
   "source": [
    "## Imports"
   ]
  },
  {
   "cell_type": "code",
   "execution_count": 29,
   "metadata": {},
   "outputs": [],
   "source": [
    "#%conda install -c conda-forge cvxopt\n",
    "#%conda install -c conda-forge casadi\n",
    "#%conda install -c conda-forge matplotlib\n",
    "\n"
   ]
  },
  {
   "cell_type": "code",
   "execution_count": 30,
   "metadata": {},
   "outputs": [],
   "source": [
    "import numpy as np\n",
    "import scipy as sp\n",
    "from scipy.sparse.linalg import splu, spsolve\n",
    "from scipy.sparse import csc_matrix, csr_matrix, dia_matrix\n",
    "import casadi as ca\n",
    "from casadi import *\n",
    "import matplotlib.pyplot as plt\n",
    "import cvxopt as cvx\n",
    "from cvxopt import cholmod\n"
   ]
  },
  {
   "cell_type": "markdown",
   "metadata": {},
   "source": [
    "# Problem 1.3\n",
    "\n",
    "The Goal here is to find x and y which solve the KKT matrix algebra problem:\n",
    "\n",
    "\n",
    "$ \\begin{bmatrix} H & -A \\\\ -A^T & 0 \\end{bmatrix} \\begin{bmatrix} x \\\\ y \\end{bmatrix} = \\begin{bmatrix} -g \\\\ -b \\end{bmatrix} $\n",
    "\n",
    "This formulation is slightly different from what can be found on page 451 of the texbook. There are the following differences:    \n",
    "* We define $A$ as the transpose of the textbook's definition: $A_{report} = A^T_{texbook}$\n",
    "* We have some different variable names: $H_{report} = G_{textbook}$, and $g_{report} = c_{textbook}$\n",
    "* We have a negative sign in from of the bottom left $A$ matrix, and in front of $b$.\n",
    "    \n",
    "    - This is permissible since $-Ax = -b$ implies $Ax = b$ and vice versa (that is to say, we are solving for the same $x$ and $y$).\n",
    "\n",
    "    - This is required since we need the KKT matrix to be symmetric for factorization.                   "
   ]
  },
  {
   "cell_type": "markdown",
   "metadata": {},
   "source": [
    "## Dense LU Factorization"
   ]
  },
  {
   "cell_type": "code",
   "execution_count": 31,
   "metadata": {},
   "outputs": [],
   "source": [
    "def EqualityQPSolverLUdense(H,g,A,b):\n",
    "\n",
    "    _, Am = A.shape #note that An = Hn = Hm, so we use Am for the dimensions of the 0 matrix\n",
    "    KKT = np.block([[H, -A],[-A.T,np.zeros([Am,Am])]])\n",
    "    L, U = sp.linalg.lu(KKT, permute_l = True)\n",
    "    vec = -np.concatenate([g, b], axis=0) \n",
    "    midd = np.linalg.solve(L, vec)\n",
    "    out_vec = np.linalg.solve(U, midd)\n",
    "\n",
    "    xout = out_vec[:len(g)]\n",
    "    yout = out_vec[len(g):]\n",
    "    \n",
    "    return xout, yout"
   ]
  },
  {
   "cell_type": "markdown",
   "metadata": {},
   "source": [
    "## Sparse LU Factorization"
   ]
  },
  {
   "cell_type": "code",
   "execution_count": 32,
   "metadata": {},
   "outputs": [],
   "source": [
    "def EqualityQPSolverLUsparse(H,g,A,b):\n",
    "\n",
    "    _, Am = A.shape #note that An = Hn = Hm, so we use Am for the dimensions of the 0 matrix\n",
    "    KKT = np.block([[H, -A],[-A.T,np.zeros([Am,Am])]])\n",
    "    L, U = sp.linalg.lu(KKT, permute_l = True)\n",
    "    L = csc_matrix(L) \n",
    "    U = csc_matrix(U)\n",
    "    vec = csc_matrix(-np.concatenate([g, b], axis=0) )\n",
    "    midd = sp.sparse.linalg.spsolve(L, vec)\n",
    "    out_vec = np.array(sp.sparse.linalg.spsolve(U, midd))\n",
    "\n",
    "    xout = out_vec[:len(g)]\n",
    "    yout = out_vec[len(g):]\n",
    "    \n",
    "    return xout, yout"
   ]
  },
  {
   "cell_type": "code",
   "execution_count": 33,
   "metadata": {},
   "outputs": [],
   "source": [
    "def EqualityQPSolverLUsparse_smart(H,g,A,b):\n",
    "\n",
    "    _, Am = A.shape #note that An = Hn = Hm, so we use Am for the dimensions of the 0 matrix\n",
    "    KKT = sp.sparse.csc_matrix(np.block([[H, -A],[-A.T,np.zeros([Am,Am])]])) #define the KKT matrix as a csc matrix\n",
    "    LUsparse= splu(KKT) # the sparse lu function from scipy uses csc matrices. This produces an object with a .solve function\n",
    "    vec = -np.concatenate([g, b], axis=0)\n",
    "    out_vec = LUsparse.solve(vec) #using the .solve functionality to get the solution\n",
    "\n",
    "    xout = out_vec[:len(g)]\n",
    "    yout = out_vec[len(g):]\n",
    "    \n",
    "    return xout, yout"
   ]
  },
  {
   "cell_type": "markdown",
   "metadata": {},
   "source": [
    "## Dense LDL.T Factorization"
   ]
  },
  {
   "cell_type": "code",
   "execution_count": 35,
   "metadata": {},
   "outputs": [],
   "source": [
    "def EqualityQPSolverLDLdense(H,g,A,b):\n",
    "\n",
    "    _, Am = A.shape \n",
    "    KKT = np.block([[H, -A],[-A.T,np.zeros([Am,Am])]]) #note that An = Hn = Hm, so we use Am for the dimensions of the 0 matrix\n",
    "    L, D, perm = sp.linalg.ldl(KKT) #scipy's linalg.ldl performs a dense LDL.T decomposition\n",
    "    vec = -np.concatenate([g, b], axis=0) \n",
    "    midd1 = np.linalg.solve(L, vec) #here we solve the system using the LDL.T factorization\n",
    "    midd2 = np.linalg.solve(D, midd1)\n",
    "    out_vec = np.linalg.solve(L.T, midd2) \n",
    "    xout = out_vec[:len(g)]\n",
    "    yout = out_vec[len(g):]\n",
    "    \n",
    "    return xout, yout"
   ]
  },
  {
   "cell_type": "markdown",
   "metadata": {},
   "source": [
    "## Sparse LDL.T Factorization"
   ]
  },
  {
   "cell_type": "code",
   "execution_count": 36,
   "metadata": {},
   "outputs": [],
   "source": [
    "def EqualityQPSolverLDLsparse(H,g,A,b):\n",
    "\n",
    "    _, Am = A.shape \n",
    "    KKT = np.block([[H, -A],[-A.T,np.zeros([Am,Am])]]) #note that An = Hn = Hm, so we use Am for the dimensions of the 0 matrix\n",
    "    L, D, perm = sp.linalg.ldl(KKT) #scipy's linalg.ldl performs a dense LDL.T decomposition\n",
    "    L = csc_matrix(L)\n",
    "    D = csc_matrix(D)\n",
    "\n",
    "    vec = csc_matrix(-np.concatenate([g, b], axis=0)) \n",
    "    midd1 = sp.sparse.linalg.spsolve(L, vec) #here we solve the system using the LDL.T factorization\n",
    "    midd2 = sp.sparse.linalg.spsolve(D, midd1)\n",
    "    out_vec = sp.sparse.linalg.spsolve(L.T, midd2) \n",
    "    xout = out_vec[:len(g)]\n",
    "    yout = out_vec[len(g):]\n",
    "    \n",
    "    return xout, yout"
   ]
  },
  {
   "cell_type": "code",
   "execution_count": null,
   "metadata": {},
   "outputs": [],
   "source": [
    "def EqualityQPSolveLDLsparse2(H,g,A,b): #borken\n",
    "    An, Am = A.shape #note that An = Hn = Hm, so we use Am for the dimensions of the 0 matrix\n",
    "    KKT_np = np.block([[H, -A],[-A.T,np.zeros([Am,Am])]])\n",
    "    print(KKT_np)\n",
    "    print(sp.linalg.det(KKT_np))\n",
    "    KKT = sp.sparse.csc_matrix(KKT_np) #we make the KKT sparse in preparation for converting to cvxopt\n",
    "    # For the sparse LDL solver we utilize cvxopt. However, first we must convert our scipy sparse KKT matrix to a cvxopt sparse matrix\n",
    "    # since cvxopt uses Fortran (column) indexing, this requires some maneuvering\n",
    "    data = KKT.data\n",
    "    indices = KKT.indices \n",
    "    indptr = KKT.indptr\n",
    "    I = []\n",
    "    J = []\n",
    "    V = []\n",
    "    for col in range(KKT.shape[1]):\n",
    "        for idx in range(indptr[col], indptr[col+1]):\n",
    "            I.append(int(indices[idx]))\n",
    "            J.append(int(col))\n",
    "            V.append(float(data[idx]))\n",
    "    KKT_cvx = cvx.spmatrix(V, I, J, KKT.shape)\n",
    "    print(KKT_cvx)\n",
    "    vec = -np.concatenate([g, b], axis=0)\n",
    "    print(vec)\n",
    "    vec_cvx = cvx.matrix(vec)\n",
    "    print(vec_cvx)\n",
    "    # Symbolic analysis\n",
    "    F = cholmod.symbolic(KKT_cvx)\n",
    "\n",
    "    # Numeric factorization\n",
    "    cholmod.numeric(KKT_cvx, F)\n",
    "\n",
    "    # Solve A x = b\n",
    "    out_vec = np.array(cholmod.solve(F, vec_cvx,sys=1))\n",
    "\n",
    "    xout = out_vec[:len(g)]\n",
    "    yout = out_vec[len(g):]\n",
    "    \n",
    "    return xout, yout"
   ]
  },
  {
   "cell_type": "markdown",
   "metadata": {},
   "source": [
    "## Range Space Method\n",
    "More info in lecture 5 QuadraticOptimization page 20/23.\n",
    "Useful when H is easy to invert or known explicitly, and when there are few equality constraints."
   ]
  },
  {
   "cell_type": "code",
   "execution_count": 40,
   "metadata": {},
   "outputs": [],
   "source": [
    "def EqualityQPSolverRange(H,g,A,b):\n",
    "    Hinv = sp.linalg.inv(H)\n",
    "    A_T = A.T\n",
    "    v = np.linalg.solve(H,g)\n",
    "    y = np.linalg.solve((A_T@Hinv@A),b+(A_T@v))\n",
    "    x = np.linalg.solve(H,(A@y-g))\n",
    "    return x, y"
   ]
  },
  {
   "cell_type": "markdown",
   "metadata": {},
   "source": [
    "## Null Space Method\n",
    "Read more in lecture 5 QuadraticOptiization page 22/23. Useful when an-am is small."
   ]
  },
  {
   "cell_type": "code",
   "execution_count": 140,
   "metadata": {},
   "outputs": [],
   "source": [
    "def EqualityQPSolverNull(H,g,A,b):\n",
    "    #This one is built from: Lecture 5 QuadraticOptimization page 22/23: https://learn.inside.dtu.dk/d2l/le/lessons/242131/topics/969401\n",
    "    _, Am = A.shape \n",
    "    A_T = A.T\n",
    "    Y,R = sp.linalg.qr(A,mode='economic') #This works but must be justified: goal: A^T@Y is nonsingular.\n",
    "    Z = sp.linalg.null_space(A_T) #Note that we want A^T@Z=0, so Z is the null space of A^T\n",
    "    Y_T = Y.T\n",
    "    Z_T = Z.T\n",
    "    x_Y = np.linalg.solve((A_T@Y),b)\n",
    "    x_Z = np.linalg.solve((Z_T@H@Z),-Z_T@((H@Y@x_Y)+g))\n",
    "    x = (Y@x_Y)+(Z@x_Z)\n",
    "    y = np.linalg.solve((A_T@Y).T,Y_T@((H@x)+g))\n",
    "    return x, y"
   ]
  },
  {
   "cell_type": "markdown",
   "metadata": {},
   "source": [
    "# Problem 1.6\n",
    "In this section we solve a provided test question using one of our QP solvers, and compare the solution which Casadi finds."
   ]
  },
  {
   "cell_type": "markdown",
   "metadata": {},
   "source": [
    "## Defining the Test Problem"
   ]
  },
  {
   "cell_type": "code",
   "execution_count": 119,
   "metadata": {},
   "outputs": [],
   "source": [
    "#Defining the test problem for 1.6\n",
    "H = np.array([\n",
    "    [6.0000, 1.8600, 1.2400, 1.4800, -0.4600],\n",
    "    [1.8600, 4.0000, 0.4400, 1.1200, 0.5200],\n",
    "    [1.2400, 0.4400, 3.8000, 1.5600, -0.5400],\n",
    "    [1.4800, 1.1200, 1.5600, 7.2000, -1.1200],\n",
    "    [-0.4600, 0.5200, -0.5400, -1.1200, 7.8000]\n",
    "])\n",
    "\n",
    "\n",
    "g = np.array([\n",
    "    [-16.1000],\n",
    "    [-8.5000],\n",
    "    [-15.7000],\n",
    "    [-10.0200],\n",
    "    [-18.6800]\n",
    "])\n",
    "\n",
    "A = np.array([\n",
    "    [16.1000, 1.0000],\n",
    "    [8.5000, 1.0000],\n",
    "    [15.7000, 1.0000],\n",
    "    [10.0200, 1.0000],\n",
    "    [18.6800, 1.0000]\n",
    "])\n",
    "\n",
    "\n",
    "b = np.array([\n",
    "    [15],\n",
    "    [1]\n",
    "])\n",
    "\n",
    "_, Am = A.shape #note that An = Hn = Hm, so we use Am for the dimensions of the 0 matrix\n",
    "KKT_np = np.block([[H, -A],[-A.T,np.zeros([Am,Am])]])\n"
   ]
  },
  {
   "cell_type": "markdown",
   "metadata": {},
   "source": [
    "<h3>Casadi<h3>"
   ]
  },
  {
   "cell_type": "code",
   "execution_count": 42,
   "metadata": {},
   "outputs": [],
   "source": [
    "#We need a converter to get to Casadi formatting\n",
    "def QP_Convert_To_Casadi(Hin, gin, Ain, bin): #This function accepts H, g, A, and b, and outputs Casadi's inputs\n",
    "\n",
    "    # Convert all arrays to CASADI types first\n",
    "    Hout = ca.SX(Hin)\n",
    "    gout = ca.SX(gin)\n",
    "\n",
    "    # Build constraint matrix\n",
    "    Aout = ca.SX(Ain.T)\n",
    "\n",
    "\n",
    "    # Build bounds\n",
    "    lbg = ca.DM(bin)\n",
    "    ubg = ca.DM(bin)\n",
    "    \n",
    "    Hn, _ = Hin.shape\n",
    "    lbx = ca.DM(np.full((1, Hn), -np.inf))\n",
    "    ubx = ca.DM(np.full((1, Hn),  np.inf))\n",
    "        \n",
    "    return Hout, gout, Aout, lbx, ubx, lbg, ubg"
   ]
  },
  {
   "cell_type": "code",
   "execution_count": 43,
   "metadata": {},
   "outputs": [],
   "source": [
    "#This function accepts H, g, A, and b, and returns the Casadi solution\n",
    "def Casadi_EC_QP(Hin,gin,Ain,bin): #This function accepts the same initial data that our solver accepts, and then returns the Casadi solution.\n",
    "    nh, _ = Hin.shape\n",
    "        \n",
    "    H, g, A, lbx_, ubx_, lbg_, ubg_ = QP_Convert_To_Casadi(Hin,gin,Ain,bin)\n",
    "\n",
    "    #print(\"H shape:\", H.shape)\n",
    "    #print(\"g shape:\",g.shape)\n",
    "    #print(\"A shape:\", A.shape)\n",
    "    #print(\"lbg shape:\", lbg_.shape)\n",
    "    #print(\"ubg shape:\", ubg_.shape)\n",
    "\n",
    "    # Define symbolic decision variable\n",
    "    x = ca.SX.sym('x', nh) \n",
    "\n",
    "    # Objective: minimize 0.5 * x^T H x + g^T x\n",
    "    objective = 0.5 * ca.dot(x, ca.mtimes(H, x)) + ca.dot(g, x)\n",
    "\n",
    "    # Constraint: \n",
    "    constraint = ca.mtimes(A, x)\n",
    "\n",
    "    # Define the QP in symbolic form\n",
    "    qp = {\n",
    "        'x': x,       # decision variables\n",
    "        'f': objective,\n",
    "        'g': constraint\n",
    "    }\n",
    "\n",
    "    # Create solver\n",
    "    solver = ca.qpsol('S', 'qpoases', qp)\n",
    "\n",
    "    # Call solver with bounds (symbolic part already defined)\n",
    "    sol = solver(\n",
    "        lbx=lbx_, \n",
    "        ubx=ubx_,  \n",
    "        lbg=lbg_,   # \n",
    "        ubg=ubg_  #   \n",
    "    )\n",
    "\n",
    "    return sol['x']"
   ]
  },
  {
   "cell_type": "markdown",
   "metadata": {},
   "source": [
    "## Solving the Test Problem"
   ]
  },
  {
   "cell_type": "code",
   "execution_count": 129,
   "metadata": {},
   "outputs": [
    {
     "name": "stdout",
     "output_type": "stream",
     "text": [
      "Z_T: (0, 2)\n",
      "H: (5, 5)\n",
      "Y: (5, 2)\n"
     ]
    },
    {
     "ename": "UnboundLocalError",
     "evalue": "cannot access local variable 'x_Y' where it is not associated with a value",
     "output_type": "error",
     "traceback": [
      "\u001b[31m---------------------------------------------------------------------------\u001b[39m",
      "\u001b[31mUnboundLocalError\u001b[39m                         Traceback (most recent call last)",
      "\u001b[36mCell\u001b[39m\u001b[36m \u001b[39m\u001b[32mIn[129]\u001b[39m\u001b[32m, line 2\u001b[39m\n\u001b[32m      1\u001b[39m \u001b[38;5;66;03m#First we solve the test problem with one of our solvers:\u001b[39;00m\n\u001b[32m----> \u001b[39m\u001b[32m2\u001b[39m x, y = \u001b[43mEqualityQPSolverNull2\u001b[49m\u001b[43m(\u001b[49m\u001b[43mH\u001b[49m\u001b[43m,\u001b[49m\u001b[43mg\u001b[49m\u001b[43m,\u001b[49m\u001b[43mA\u001b[49m\u001b[43m,\u001b[49m\u001b[43mb\u001b[49m\u001b[43m)\u001b[49m\n\u001b[32m      3\u001b[39m \u001b[38;5;28mprint\u001b[39m(\u001b[33m\"\u001b[39m\u001b[33mx:\u001b[39m\u001b[38;5;130;01m\\n\u001b[39;00m\u001b[33m\"\u001b[39m,x.T,\u001b[33m\"\u001b[39m\u001b[38;5;130;01m\\n\u001b[39;00m\u001b[33my:\u001b[39m\u001b[38;5;130;01m\\n\u001b[39;00m\u001b[33m\"\u001b[39m,y.T)\n\u001b[32m      5\u001b[39m \u001b[38;5;66;03m#Next we do so with Casadi\u001b[39;00m\n",
      "\u001b[36mCell\u001b[39m\u001b[36m \u001b[39m\u001b[32mIn[128]\u001b[39m\u001b[32m, line 11\u001b[39m, in \u001b[36mEqualityQPSolverNull2\u001b[39m\u001b[34m(H, g, A, b)\u001b[39m\n\u001b[32m      9\u001b[39m \u001b[38;5;28mprint\u001b[39m(\u001b[33m\"\u001b[39m\u001b[33mH:\u001b[39m\u001b[33m\"\u001b[39m, H.shape)\n\u001b[32m     10\u001b[39m \u001b[38;5;28mprint\u001b[39m(\u001b[33m\"\u001b[39m\u001b[33mY:\u001b[39m\u001b[33m\"\u001b[39m, Y.shape)\n\u001b[32m---> \u001b[39m\u001b[32m11\u001b[39m \u001b[38;5;28mprint\u001b[39m(\u001b[33m\"\u001b[39m\u001b[33mx_Y:\u001b[39m\u001b[33m\"\u001b[39m, \u001b[43mx_Y\u001b[49m.shape)\n\u001b[32m     12\u001b[39m \u001b[38;5;28mprint\u001b[39m(\u001b[33m\"\u001b[39m\u001b[33mg:\u001b[39m\u001b[33m\"\u001b[39m, g.shape)\n\u001b[32m     13\u001b[39m \u001b[38;5;28mprint\u001b[39m(\u001b[33m\"\u001b[39m\u001b[33mH @ Y @ x_Y:\u001b[39m\u001b[33m\"\u001b[39m, (H @ Y @ x_Y).shape)\n",
      "\u001b[31mUnboundLocalError\u001b[39m: cannot access local variable 'x_Y' where it is not associated with a value"
     ]
    }
   ],
   "source": [
    "#First we solve the test problem with one of our solvers:\n",
    "x, y = EqualityQPSolverNull2(H,g,A,b)\n",
    "print(\"x:\\n\",x.T,\"\\ny:\\n\",y.T)\n",
    "\n",
    "#Next we do so with Casadi\n",
    "\n",
    "Casadi_EC_QP(H,g,A,b)"
   ]
  },
  {
   "cell_type": "markdown",
   "metadata": {},
   "source": [
    "## Comparison\n",
    "\n",
    "Our dense LDL solver finds:\n",
    "\n",
    "x = [0.15020779, 0.1400325, 0.35434944, 0.09364569, 0.26176457]\n",
    "\n",
    "Casadi finds:\n",
    "\n",
    "x = [0.150208, 0.140033, 0.354349, 0.0936457, 0.261765]\n",
    "\n",
    "These solutions are satisfactorily similar."
   ]
  },
  {
   "cell_type": "code",
   "execution_count": null,
   "metadata": {},
   "outputs": [
    {
     "ename": "NameError",
     "evalue": "name 'EqualityQPSolveLUdense' is not defined",
     "output_type": "error",
     "traceback": [
      "\u001b[31m---------------------------------------------------------------------------\u001b[39m",
      "\u001b[31mNameError\u001b[39m                                 Traceback (most recent call last)",
      "\u001b[36mCell\u001b[39m\u001b[36m \u001b[39m\u001b[32mIn[32]\u001b[39m\u001b[32m, line 38\u001b[39m\n\u001b[32m     36\u001b[39m \u001b[38;5;28;01mfor\u001b[39;00m b_id \u001b[38;5;129;01min\u001b[39;00m \u001b[38;5;28mrange\u001b[39m(\u001b[38;5;28mlen\u001b[39m(b1_space)):\n\u001b[32m     37\u001b[39m     b[\u001b[32m0\u001b[39m,\u001b[32m0\u001b[39m]=b1_space[b_id]\n\u001b[32m---> \u001b[39m\u001b[32m38\u001b[39m     xsol, _ = \u001b[43mEqualityQPSolveLUdense\u001b[49m(H,g,A,b)\n\u001b[32m     39\u001b[39m     xsol_matrix[b_id,:] = xsol.flatten()\n\u001b[32m     43\u001b[39m plt.figure(figsize=(\u001b[32m10\u001b[39m, \u001b[32m6\u001b[39m))\n",
      "\u001b[31mNameError\u001b[39m: name 'EqualityQPSolveLUdense' is not defined"
     ]
    }
   ],
   "source": [
    "H = np.array([\n",
    "    [6.0000, 1.8600, 1.2400, 1.4800, -0.4600],\n",
    "    [1.8600, 4.0000, 0.4400, 1.1200, 0.5200],\n",
    "    [1.2400, 0.4400, 3.8000, 1.5600, -0.5400],\n",
    "    [1.4800, 1.1200, 1.5600, 7.2000, -1.1200],\n",
    "    [-0.4600, 0.5200, -0.5400, -1.1200, 7.8000]\n",
    "])\n",
    "\n",
    "\n",
    "g = np.array([\n",
    "    [-16.1000],\n",
    "    [-8.5000],\n",
    "    [-15.7000],\n",
    "    [-10.0200],\n",
    "    [-18.6800]\n",
    "])\n",
    "\n",
    "A = np.array([\n",
    "    [16.1000, 1.0000],\n",
    "    [8.5000, 1.0000],\n",
    "    [15.7000, 1.0000],\n",
    "    [10.0200, 1.0000],\n",
    "    [18.6800, 1.0000]\n",
    "])\n",
    "\n",
    "\n",
    "b = np.array([\n",
    "    [15],\n",
    "    [1]\n",
    "])\n",
    "\n",
    "bn = 1000\n",
    "b1_space = np.linspace(8.50,18.68,bn)\n",
    "xsol_matrix = np.zeros((bn,5))\n",
    "\n",
    "for b_id in range(len(b1_space)):\n",
    "    b[0,0]=b1_space[b_id]\n",
    "    xsol, _ = EqualityQPSolverLUdense(H,g,A,b)\n",
    "    xsol_matrix[b_id,:] = xsol.flatten()\n",
    "\n",
    "\n",
    "\n",
    "plt.figure(figsize=(10, 6))\n",
    "for i in range(xsol_matrix.shape[1]):\n",
    "    plt.plot(b1_space, xsol_matrix[:, i], label=f'x_{i + 1}')\n",
    "\n",
    "plt.xlabel('b_1 value')\n",
    "plt.ylabel('x values')\n",
    "plt.title('x Solution Values as a Function of b_1')\n",
    "plt.legend()\n",
    "plt.grid(True)\n",
    "plt.tight_layout()\n",
    "plt.show()\n"
   ]
  }
 ],
 "metadata": {
  "kernelspec": {
   "display_name": "Python 3",
   "language": "python",
   "name": "python3"
  },
  "language_info": {
   "codemirror_mode": {
    "name": "ipython",
    "version": 3
   },
   "file_extension": ".py",
   "mimetype": "text/x-python",
   "name": "python",
   "nbconvert_exporter": "python",
   "pygments_lexer": "ipython3",
   "version": "3.11.8"
  }
 },
 "nbformat": 4,
 "nbformat_minor": 2
}

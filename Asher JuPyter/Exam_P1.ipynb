{
 "cells": [
  {
   "cell_type": "markdown",
   "metadata": {},
   "source": [
    "# Equality Constrained Convex Quadratic Program Solvers"
   ]
  },
  {
   "cell_type": "markdown",
   "metadata": {},
   "source": [
    "## Imports"
   ]
  },
  {
   "cell_type": "code",
   "execution_count": null,
   "metadata": {},
   "outputs": [
    {
     "name": "stdout",
     "output_type": "stream",
     "text": [
      "Defaulting to user installation because normal site-packages is not writeable\n",
      "Requirement already satisfied: scikit-learn in /Users/asherkite/Library/Python/3.9/lib/python/site-packages (1.6.1)\n",
      "Requirement already satisfied: numpy>=1.19.5 in /Users/asherkite/Library/Python/3.9/lib/python/site-packages (from scikit-learn) (2.0.2)\n",
      "Requirement already satisfied: scipy>=1.6.0 in /Users/asherkite/Library/Python/3.9/lib/python/site-packages (from scikit-learn) (1.13.1)\n",
      "Requirement already satisfied: joblib>=1.2.0 in /Users/asherkite/Library/Python/3.9/lib/python/site-packages (from scikit-learn) (1.4.2)\n",
      "Requirement already satisfied: threadpoolctl>=3.1.0 in /Users/asherkite/Library/Python/3.9/lib/python/site-packages (from scikit-learn) (3.5.0)\n",
      "\n",
      "\u001b[1m[\u001b[0m\u001b[34;49mnotice\u001b[0m\u001b[1;39;49m]\u001b[0m\u001b[39;49m A new release of pip is available: \u001b[0m\u001b[31;49m25.0.1\u001b[0m\u001b[39;49m -> \u001b[0m\u001b[32;49m25.1.1\u001b[0m\n",
      "\u001b[1m[\u001b[0m\u001b[34;49mnotice\u001b[0m\u001b[1;39;49m]\u001b[0m\u001b[39;49m To update, run: \u001b[0m\u001b[32;49m/Library/Developer/CommandLineTools/usr/bin/python3 -m pip install --upgrade pip\u001b[0m\n"
     ]
    }
   ],
   "source": [
    "#!pip install scikit-learn"
   ]
  },
  {
   "cell_type": "code",
   "execution_count": 6,
   "metadata": {},
   "outputs": [
    {
     "ename": "ModuleNotFoundError",
     "evalue": "No module named 'scikits'",
     "output_type": "error",
     "traceback": [
      "\u001b[0;31m---------------------------------------------------------------------------\u001b[0m",
      "\u001b[0;31mModuleNotFoundError\u001b[0m                       Traceback (most recent call last)",
      "Cell \u001b[0;32mIn[6], line 7\u001b[0m\n\u001b[1;32m      5\u001b[0m \u001b[38;5;28;01mfrom\u001b[39;00m\u001b[38;5;250m \u001b[39m\u001b[38;5;21;01mcasadi\u001b[39;00m\u001b[38;5;250m \u001b[39m\u001b[38;5;28;01mimport\u001b[39;00m \u001b[38;5;241m*\u001b[39m\n\u001b[1;32m      6\u001b[0m \u001b[38;5;28;01mimport\u001b[39;00m\u001b[38;5;250m \u001b[39m\u001b[38;5;21;01mmatplotlib\u001b[39;00m\u001b[38;5;21;01m.\u001b[39;00m\u001b[38;5;21;01mpyplot\u001b[39;00m\u001b[38;5;250m \u001b[39m\u001b[38;5;28;01mas\u001b[39;00m\u001b[38;5;250m \u001b[39m\u001b[38;5;21;01mplt\u001b[39;00m\n\u001b[0;32m----> 7\u001b[0m \u001b[38;5;28;01mimport\u001b[39;00m\u001b[38;5;250m \u001b[39m\u001b[38;5;21;01mscikits\u001b[39;00m\n",
      "\u001b[0;31mModuleNotFoundError\u001b[0m: No module named 'scikits'"
     ]
    }
   ],
   "source": [
    "import numpy as np\n",
    "import scipy as sp\n",
    "from scipy.sparse.linalg import splu, spsolve\n",
    "import casadi as ca\n",
    "from casadi import *\n",
    "import matplotlib.pyplot as plt\n",
    "import scikits"
   ]
  },
  {
   "cell_type": "markdown",
   "metadata": {},
   "source": [
    "# Problem 1.3\n",
    "\n",
    "The Goal here is to find x and y which solve the KKT matrix algebra problem:\n",
    "\n",
    "\n",
    "$ \\begin{bmatrix} H & -A \\\\ -A^T & 0 \\end{bmatrix} \\begin{bmatrix} x \\\\ y \\end{bmatrix} = \\begin{bmatrix} -g \\\\ -b \\end{bmatrix} $\n",
    "\n",
    "This formulation is slightly different from what can be found on page 451 of the texbook. There are the following differences:    \n",
    "* We define $A$ as the transpose of the textbook's definition: $A_{report} = A^T_{texbook}$\n",
    "* We have some different variable names: $H_{report} = G_{textbook}$, and $g_{report} = c_{textbook}$\n",
    "* We have a negative sign in from of the bottom left $A$ matrix, and in front of $b$.\n",
    "    \n",
    "    - This is permissible since $-Ax = -b$ implies $Ax = b$ and vice versa (that is to say, we are solving for the same $x$ and $y$).\n",
    "\n",
    "    - This is required since we need the KKT matrix to be symmetric for factorization.                   "
   ]
  },
  {
   "cell_type": "markdown",
   "metadata": {},
   "source": [
    "## Dense LU Factorization"
   ]
  },
  {
   "cell_type": "code",
   "execution_count": 8,
   "metadata": {},
   "outputs": [],
   "source": [
    "def EqualityQPSolveLUdense(H,g,A,b):\n",
    "\n",
    "    _, Am = A.shape #note that An = Hn = Hm, so we use Am for the dimensions of the 0 matrix\n",
    "    KKT = np.block([[H, -A],[-A.T,np.zeros([Am,Am])]])\n",
    "    L, U = sp.linalg.lu(KKT, permute_l = True)\n",
    "    vec = -np.concatenate([g, b], axis=0) \n",
    "    midd = np.linalg.solve(L, vec)\n",
    "    out_vec = np.linalg.solve(U, midd)\n",
    "\n",
    "    xout = out_vec[:len(g)]\n",
    "    yout = out_vec[len(g):]\n",
    "    \n",
    "    return xout, yout"
   ]
  },
  {
   "cell_type": "markdown",
   "metadata": {},
   "source": [
    "## Sparse LU Factorization"
   ]
  },
  {
   "cell_type": "code",
   "execution_count": 9,
   "metadata": {},
   "outputs": [],
   "source": [
    "def EqualityQPSolveLUsparse(H,g,A,b):\n",
    "\n",
    "    _, Am = A.shape #note that An = Hn = Hm, so we use Am for the dimensions of the 0 matrix\n",
    "    KKT = sp.sparse.csc_matrix(np.block([[H, -A],[-A.T,np.zeros([Am,Am])]])) #define the KKT matrix as a csc matrix\n",
    "    LUsparse= splu(KKT) # the sparse lu function from scipy uses csc matrices. This produces an object with a .solve function\n",
    "    vec = -np.concatenate([g, b], axis=0)\n",
    "    out_vec = LUsparse.solve(vec) #using the .solve functionality to get the solution\n",
    "\n",
    "    xout = out_vec[:len(g)]\n",
    "    yout = out_vec[len(g):]\n",
    "    \n",
    "    return xout, yout"
   ]
  },
  {
   "cell_type": "markdown",
   "metadata": {},
   "source": [
    "## Dense LDL.T Factorization"
   ]
  },
  {
   "cell_type": "code",
   "execution_count": 10,
   "metadata": {},
   "outputs": [],
   "source": [
    "def EqualityQPSolveLDLdense(H,g,A,b):\n",
    "\n",
    "    _, Am = A.shape \n",
    "    KKT = np.block([[H, -A],[-A.T,np.zeros([Am,Am])]]) #note that An = Hn = Hm, so we use Am for the dimensions of the 0 matrix\n",
    "    L, D, perm = sp.linalg.ldl(KKT) #scipy's linalg.ldl performs a dense LDL.T decomposition\n",
    "    vec = -np.concatenate([g, b], axis=0) \n",
    "    midd1 = np.linalg.solve(L, vec) #here we solve the system using the LDL.T factorization\n",
    "    midd2 = np.linalg.solve(D, midd1)\n",
    "    out_vec = np.linalg.solve(L.T, midd2) \n",
    "    xout = out_vec[:len(g)]\n",
    "    yout = out_vec[len(g):]\n",
    "    \n",
    "    return xout, yout"
   ]
  },
  {
   "cell_type": "markdown",
   "metadata": {},
   "source": [
    "## Sparse LDL.T Factorization"
   ]
  },
  {
   "cell_type": "code",
   "execution_count": null,
   "metadata": {},
   "outputs": [],
   "source": [
    "def EqualityQPSolveLDLdense(H,g,A,b):\n",
    "\n",
    "    _, Am = A.shape \n",
    "    KKT = np.block([[H, -A],[-A.T,np.zeros([Am,Am])]]) #note that An = Hn = Hm, so we use Am for the dimensions of the 0 matrix\n",
    "    \n",
    "    L, D, perm = sp.linalg.ldl(KKT) #scipy's linalg.ldl performs a dense LDL.T decomposition\n",
    "    vec = -np.concatenate([g, b], axis=0) \n",
    "    midd1 = np.linalg.solve(L, vec) #here we solve the system using the LDL.T factorization\n",
    "    midd2 = np.linalg.solve(D, midd1)\n",
    "    out_vec = np.linalg.solve(L.T, midd2) \n",
    "    xout = out_vec[:len(g)]\n",
    "    yout = out_vec[len(g):]\n",
    "    \n",
    "    return xout, yout"
   ]
  },
  {
   "cell_type": "markdown",
   "metadata": {},
   "source": [
    "# Problem 1.6\n",
    "In this section we solve a provided test question using one of our QP solvers, and compare the solution which Casadi finds."
   ]
  },
  {
   "cell_type": "markdown",
   "metadata": {},
   "source": [
    "## Defining the Test Problem"
   ]
  },
  {
   "cell_type": "code",
   "execution_count": 23,
   "metadata": {},
   "outputs": [],
   "source": [
    "#Defining the test problem for 1.6\n",
    "H = np.array([\n",
    "    [6.0000, 1.8600, 1.2400, 1.4800, -0.4600],\n",
    "    [1.8600, 4.0000, 0.4400, 1.1200, 0.5200],\n",
    "    [1.2400, 0.4400, 3.8000, 1.5600, -0.5400],\n",
    "    [1.4800, 1.1200, 1.5600, 7.2000, -1.1200],\n",
    "    [-0.4600, 0.5200, -0.5400, -1.1200, 7.8000]\n",
    "])\n",
    "\n",
    "\n",
    "g = np.array([\n",
    "    [-16.1000],\n",
    "    [-8.5000],\n",
    "    [-15.7000],\n",
    "    [-10.0200],\n",
    "    [-18.6800]\n",
    "])\n",
    "\n",
    "A = np.array([\n",
    "    [16.1000, 1.0000],\n",
    "    [8.5000, 1.0000],\n",
    "    [15.7000, 1.0000],\n",
    "    [10.0200, 1.0000],\n",
    "    [18.6800, 1.0000]\n",
    "])\n",
    "\n",
    "\n",
    "b = np.array([\n",
    "    [15],\n",
    "    [1]\n",
    "])"
   ]
  },
  {
   "cell_type": "markdown",
   "metadata": {},
   "source": [
    "<h3>Casadi<h3>"
   ]
  },
  {
   "cell_type": "code",
   "execution_count": 18,
   "metadata": {},
   "outputs": [],
   "source": [
    "#We need a converter to get to Casadi formatting\n",
    "def QP_Convert_To_Casadi(Hin, gin, Ain, bin): #This function accepts H, g, A, and b, and outputs Casadi's inputs\n",
    "\n",
    "    # Convert all arrays to CASADI types first\n",
    "    Hout = ca.SX(Hin)\n",
    "    gout = ca.SX(gin)\n",
    "\n",
    "    # Build constraint matrix\n",
    "    Aout = ca.SX(Ain.T)\n",
    "\n",
    "\n",
    "    # Build bounds\n",
    "    lbg = ca.DM(bin)\n",
    "    ubg = ca.DM(bin)\n",
    "    \n",
    "    Hn, _ = Hin.shape\n",
    "    lbx = ca.DM(np.full((1, Hn), -np.inf))\n",
    "    ubx = ca.DM(np.full((1, Hn),  np.inf))\n",
    "        \n",
    "    return Hout, gout, Aout, lbx, ubx, lbg, ubg"
   ]
  },
  {
   "cell_type": "code",
   "execution_count": 19,
   "metadata": {},
   "outputs": [],
   "source": [
    "#This function accepts H, g, A, and b, and returns the Casadi solution\n",
    "def Casadi_EC_QP(Hin,gin,Ain,bin): #This function accepts the same initial data that our solver accepts, and then returns the Casadi solution.\n",
    "    nh, _ = Hin.shape\n",
    "        \n",
    "    H, g, A, lbx_, ubx_, lbg_, ubg_ = QP_Convert_To_Casadi(Hin,gin,Ain,bin)\n",
    "\n",
    "    #print(\"H shape:\", H.shape)\n",
    "    #print(\"g shape:\",g.shape)\n",
    "    #print(\"A shape:\", A.shape)\n",
    "    #print(\"lbg shape:\", lbg_.shape)\n",
    "    #print(\"ubg shape:\", ubg_.shape)\n",
    "\n",
    "    # Define symbolic decision variable\n",
    "    x = ca.SX.sym('x', nh) \n",
    "\n",
    "    # Objective: minimize 0.5 * x^T H x + g^T x\n",
    "    objective = 0.5 * ca.dot(x, ca.mtimes(H, x)) + ca.dot(g, x)\n",
    "\n",
    "    # Constraint: \n",
    "    constraint = ca.mtimes(A, x)\n",
    "\n",
    "    # Define the QP in symbolic form\n",
    "    qp = {\n",
    "        'x': x,       # decision variables\n",
    "        'f': objective,\n",
    "        'g': constraint\n",
    "    }\n",
    "\n",
    "    # Create solver\n",
    "    solver = ca.qpsol('S', 'qpoases', qp)\n",
    "\n",
    "    # Call solver with bounds (symbolic part already defined)\n",
    "    sol = solver(\n",
    "        lbx=lbx_, \n",
    "        ubx=ubx_,  \n",
    "        lbg=lbg_,   # \n",
    "        ubg=ubg_  #   \n",
    "    )\n",
    "\n",
    "    return sol['x']"
   ]
  },
  {
   "cell_type": "markdown",
   "metadata": {},
   "source": [
    "## Solving the Test Problem"
   ]
  },
  {
   "cell_type": "code",
   "execution_count": 21,
   "metadata": {},
   "outputs": [
    {
     "name": "stdout",
     "output_type": "stream",
     "text": [
      "x:\n",
      " [[0.15020779 0.1400325  0.35434944 0.09364569 0.26176457]] \n",
      "y:\n",
      " [[-0.94962455  0.80823969]]\n",
      "\n",
      "qpOASES -- An Implementation of the Online Active Set Strategy.\n",
      "Copyright (C) 2007-2015 by Hans Joachim Ferreau, Andreas Potschka,\n",
      "Christian Kirches et al. All rights reserved.\n",
      "\n",
      "qpOASES is distributed under the terms of the \n",
      "GNU Lesser General Public License 2.1 in the hope that it will be \n",
      "useful, but WITHOUT ANY WARRANTY; without even the implied warranty \n",
      "of MERCHANTABILITY or FITNESS FOR A PARTICULAR PURPOSE. \n",
      "See the GNU Lesser General Public License for more details.\n",
      "\n",
      "\n",
      "qpOASES -- An Implementation of the Online Active Set Strategy.\n",
      "Copyright (C) 2007-2015 by Hans Joachim Ferreau, Andreas Potschka,\n",
      "Christian Kirches et al. All rights reserved.\n",
      "\n",
      "qpOASES is distributed under the terms of the \n",
      "GNU Lesser General Public License 2.1 in the hope that it will be \n",
      "useful, but WITHOUT ANY WARRANTY; without even the implied warranty \n",
      "of MERCHANTABILITY or FITNESS FOR A PARTICULAR PURPOSE. \n",
      "See the GNU Lesser General Public License for more details.\n",
      "\n",
      "\n",
      "\n",
      "####################   qpOASES  --  QP NO.   1   #####################\n",
      "\n",
      "    Iter   |    StepLength    |       Info       |   nFX   |   nAC    \n",
      " ----------+------------------+------------------+---------+--------- \n",
      "       0   |   5.707086e-09   |   ADD CON    0   |     4   |     1   \n",
      "       1   |   1.214114e-09   |   REM BND    4   |     3   |     1   \n",
      "       2   |   6.199596e-09   |   REM BND    2   |     2   |     1   \n",
      "       3   |   1.846994e-08   |   REM BND    3   |     1   |     1   \n",
      "       4   |   3.915624e-08   |   REM BND    1   |     0   |     1   \n",
      "       5   |   5.594512e-02   |   REM CON    0   |     0   |     0   \n",
      "       6   |   9.655778e-03   |   ADD CON    0   |     0   |     1   \n",
      "       7   |   9.058647e-01   |   ADD CON    1   |     0   |     2   \n",
      "       8   |   1.000000e+00   |    QP SOLVED     |     0   |     2   \n"
     ]
    },
    {
     "data": {
      "text/plain": [
       "DM([0.150208, 0.140033, 0.354349, 0.0936457, 0.261765])"
      ]
     },
     "execution_count": 21,
     "metadata": {},
     "output_type": "execute_result"
    }
   ],
   "source": [
    "#First we solve the test problem with one of our solvers:\n",
    "x, y = EqualityQPSolveLUdense(H,g,A,b)\n",
    "print(\"x:\\n\",x.T,\"\\ny:\\n\",y.T)\n",
    "\n",
    "#Next we do so with Casadi\n",
    "\n",
    "Casadi_EC_QP(H,g,A,b)"
   ]
  },
  {
   "cell_type": "markdown",
   "metadata": {},
   "source": [
    "## Comparison\n",
    "\n",
    "Our dense LDL solver finds:\n",
    "\n",
    "x = [0.15020779, 0.1400325, 0.35434944, 0.09364569, 0.26176457]\n",
    "\n",
    "Casadi finds:\n",
    "\n",
    "x = [0.150208, 0.140033, 0.354349, 0.0936457, 0.261765]\n",
    "\n",
    "These solutions are satisfactorily similar."
   ]
  },
  {
   "cell_type": "code",
   "execution_count": 36,
   "metadata": {},
   "outputs": [
    {
     "data": {
      "image/png": "[encoded data removed]",
      "text/plain": [
       "<Figure size 1000x600 with 1 Axes>"
      ]
     },
     "metadata": {},
     "output_type": "display_data"
    }
   ],
   "source": [
    "H = np.array([\n",
    "    [6.0000, 1.8600, 1.2400, 1.4800, -0.4600],\n",
    "    [1.8600, 4.0000, 0.4400, 1.1200, 0.5200],\n",
    "    [1.2400, 0.4400, 3.8000, 1.5600, -0.5400],\n",
    "    [1.4800, 1.1200, 1.5600, 7.2000, -1.1200],\n",
    "    [-0.4600, 0.5200, -0.5400, -1.1200, 7.8000]\n",
    "])\n",
    "\n",
    "\n",
    "g = np.array([\n",
    "    [-16.1000],\n",
    "    [-8.5000],\n",
    "    [-15.7000],\n",
    "    [-10.0200],\n",
    "    [-18.6800]\n",
    "])\n",
    "\n",
    "A = np.array([\n",
    "    [16.1000, 1.0000],\n",
    "    [8.5000, 1.0000],\n",
    "    [15.7000, 1.0000],\n",
    "    [10.0200, 1.0000],\n",
    "    [18.6800, 1.0000]\n",
    "])\n",
    "\n",
    "\n",
    "b = np.array([\n",
    "    [15],\n",
    "    [1]\n",
    "])\n",
    "\n",
    "bn = 1000\n",
    "b1_space = np.linspace(8.50,18.68,bn)\n",
    "xsol_matrix = np.zeros((bn,5))\n",
    "\n",
    "for b_id in range(len(b1_space)):\n",
    "    b[0,0]=b1_space[b_id]\n",
    "    xsol, _ = EqualityQPSolveLUdense(H,g,A,b)\n",
    "    xsol_matrix[b_id,:] = xsol.flatten()\n",
    "\n",
    "\n",
    "\n",
    "plt.figure(figsize=(10, 6))\n",
    "for i in range(xsol_matrix.shape[1]):\n",
    "    plt.plot(b1_space, xsol_matrix[:, i], label=f'x_{i + 1}')\n",
    "\n",
    "plt.xlabel('b_1 value')\n",
    "plt.ylabel('x values')\n",
    "plt.title('x Solution Values as a Function of b_1')\n",
    "plt.legend()\n",
    "plt.grid(True)\n",
    "plt.tight_layout()\n",
    "plt.show()\n"
   ]
  }
 ],
 "metadata": {
  "kernelspec": {
   "display_name": "Python 3",
   "language": "python",
   "name": "python3"
  },
  "language_info": {
   "codemirror_mode": {
    "name": "ipython",
    "version": 3
   },
   "file_extension": ".py",
   "mimetype": "text/x-python",
   "name": "python",
   "nbconvert_exporter": "python",
   "pygments_lexer": "ipython3",
   "version": "3.9.6"
  }
 },
 "nbformat": 4,
 "nbformat_minor": 2
}
